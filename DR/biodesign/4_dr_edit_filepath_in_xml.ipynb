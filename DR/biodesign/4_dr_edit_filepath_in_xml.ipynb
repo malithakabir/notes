{
 "cells": [
  {
   "cell_type": "code",
   "execution_count": 2,
   "metadata": {},
   "outputs": [],
   "source": [
    "import os\n",
    "from shutil import copyfile\n",
    "import xml.etree.ElementTree as ET"
   ]
  },
  {
   "cell_type": "code",
   "execution_count": 3,
   "metadata": {},
   "outputs": [],
   "source": [
    "INPUT_XML_DIR = 'C:/Users/user/kabir/ML/DR/biodesign/labels_xml_separated/'"
   ]
  },
  {
   "cell_type": "code",
   "execution_count": 4,
   "metadata": {},
   "outputs": [
    {
     "data": {
      "text/plain": [
       "['exudate', 'hemorrage', 'soft_exudate']"
      ]
     },
     "execution_count": 4,
     "metadata": {},
     "output_type": "execute_result"
    }
   ],
   "source": [
    "os.listdir(INPUT_XML_DIR)"
   ]
  },
  {
   "cell_type": "code",
   "execution_count": 6,
   "metadata": {},
   "outputs": [],
   "source": [
    "for folder in os.listdir(INPUT_XML_DIR):\n",
    "    folder_path = INPUT_XML_DIR + folder\n",
    "    for filename in os.listdir(folder_path):\n",
    "        if '.xml' in filename:\n",
    "            file_path = folder_path + '/' + filename\n",
    "            tree = ET.parse(file_path)\n",
    "            root = tree.getroot()\n",
    "            for child in root:\n",
    "                if child.tag == 'folder':\n",
    "                    child.text = ''\n",
    "                if child.tag == 'filename':\n",
    "                    child.text = ''\n",
    "                if child.tag == 'path':\n",
    "                    child.text = file_path.replace('.xml', '.jpeg')\n",
    "            tree.write(file_path)"
   ]
  },
  {
   "cell_type": "code",
   "execution_count": null,
   "metadata": {},
   "outputs": [],
   "source": []
  }
 ],
 "metadata": {
  "kernelspec": {
   "display_name": "Python 3",
   "language": "python",
   "name": "python3"
  },
  "language_info": {
   "codemirror_mode": {
    "name": "ipython",
    "version": 3
   },
   "file_extension": ".py",
   "mimetype": "text/x-python",
   "name": "python",
   "nbconvert_exporter": "python",
   "pygments_lexer": "ipython3",
   "version": "3.6.4"
  }
 },
 "nbformat": 4,
 "nbformat_minor": 2
}
