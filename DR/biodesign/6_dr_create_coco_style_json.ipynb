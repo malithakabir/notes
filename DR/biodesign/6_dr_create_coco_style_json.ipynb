{
 "cells": [
  {
   "cell_type": "code",
   "execution_count": 1,
   "metadata": {},
   "outputs": [],
   "source": [
    "import os\n",
    "import json\n",
    "import xml.etree.ElementTree as ET"
   ]
  },
  {
   "cell_type": "code",
   "execution_count": 2,
   "metadata": {},
   "outputs": [],
   "source": [
    "def create_image_info(filename, img_id):\n",
    "    image_info = dict()\n",
    "    image_info['license'] = 1\n",
    "    image_info['file_name'] = filename\n",
    "    image_info['coco_url'] = ''\n",
    "    image_info['height'] = 512\n",
    "    image_info['width'] = 512\n",
    "    image_info['date_captured'] = ''\n",
    "    image_info['flickr_url'] = ''\n",
    "    image_info['id'] = img_id\n",
    "    return image_info"
   ]
  },
  {
   "cell_type": "code",
   "execution_count": 3,
   "metadata": {},
   "outputs": [],
   "source": [
    "def create_image_annotation(img_id, category_id, anno_id):\n",
    "    image_anno = dict()\n",
    "    image_anno['segmentation'] = list()\n",
    "    image_anno['iscrowd'] = 0\n",
    "    image_anno['image_id'] = img_id\n",
    "    image_anno['category_id'] = category_id\n",
    "    image_anno['id'] = anno_id\n",
    "    return image_anno"
   ]
  },
  {
   "cell_type": "code",
   "execution_count": 4,
   "metadata": {},
   "outputs": [],
   "source": [
    "def create_bbox_and_area(bbox):\n",
    "    xmin = float(bbox.find('xmin').text)\n",
    "    ymin = float(bbox.find('ymin').text)\n",
    "    xmax = float(bbox.find('xmax').text)\n",
    "    ymax = float(bbox.find('ymax').text)\n",
    "    width = xmax - xmin\n",
    "    height = ymax - ymin\n",
    "    area = width * height\n",
    "    bbox = [xmin, ymin, width, height]\n",
    "    return {'bbox': bbox, 'area':area}"
   ]
  },
  {
   "cell_type": "code",
   "execution_count": 5,
   "metadata": {},
   "outputs": [],
   "source": [
    "category_1 = {'supercategory': 'hemorrage', 'id': 1, 'name': 'hemorrage'}"
   ]
  },
  {
   "cell_type": "code",
   "execution_count": 6,
   "metadata": {},
   "outputs": [],
   "source": [
    "mscoco_style_data = dict()\n",
    "mscoco_style_data['info'] = dict()\n",
    "mscoco_style_data['licenses'] = list()\n",
    "mscoco_style_data['images'] = list()\n",
    "mscoco_style_data['annotations'] = list()\n",
    "mscoco_style_data['categories'] = list()"
   ]
  },
  {
   "cell_type": "code",
   "execution_count": 7,
   "metadata": {},
   "outputs": [],
   "source": [
    "mscoco_style_data['categories'].append(category_1)"
   ]
  },
  {
   "cell_type": "code",
   "execution_count": 8,
   "metadata": {},
   "outputs": [],
   "source": [
    "dataDir='C:/Users/user/kabir/ML/DR/biodesign/labels_xml_separated/hemorrage'"
   ]
  },
  {
   "cell_type": "code",
   "execution_count": 9,
   "metadata": {},
   "outputs": [],
   "source": [
    "files = [filename for filename in os.listdir(dataDir) if '.xml' in filename ]"
   ]
  },
  {
   "cell_type": "code",
   "execution_count": 10,
   "metadata": {},
   "outputs": [],
   "source": [
    "img_id = 0\n",
    "anno_id = 0\n",
    "category_id = 1\n",
    "\n",
    "for filename in files:\n",
    "    \n",
    "    img_id = img_id + 1\n",
    "    image_info = create_image_info(filename.replace('.xml', '.jpeg'), img_id)\n",
    "    mscoco_style_data['images'].append(image_info)\n",
    "    \n",
    "    filePath = '{}/{}'.format(dataDir, filename)\n",
    "    tree = ET.parse(filePath)\n",
    "    root = tree.getroot()\n",
    "    bbox_data = root.findall('object/bndbox')\n",
    "    \n",
    "    for ids in range(len(bbox_data)):\n",
    "        anno_id = anno_id + 1\n",
    "        image_anno = create_image_annotation(img_id, category_id, anno_id)\n",
    "        bbox_and_area = create_bbox_and_area(bbox_data[ids])\n",
    "        image_anno['area'] = bbox_and_area['area']\n",
    "        image_anno['bbox'] = bbox_and_area['bbox']\n",
    "        mscoco_style_data['annotations'].append(image_anno)"
   ]
  },
  {
   "cell_type": "code",
   "execution_count": 11,
   "metadata": {},
   "outputs": [],
   "source": [
    "with open('C:/Users/user/kabir/ML/DR/biodesign/annotations/dr_mscoco_hemorrage.json', 'w') as fp:\n",
    "    json.dump(mscoco_style_data, fp)"
   ]
  },
  {
   "cell_type": "code",
   "execution_count": 13,
   "metadata": {},
   "outputs": [],
   "source": [
    "#mscoco_style_data"
   ]
  },
  {
   "cell_type": "code",
   "execution_count": null,
   "metadata": {},
   "outputs": [],
   "source": []
  }
 ],
 "metadata": {
  "kernelspec": {
   "display_name": "Python 3",
   "language": "python",
   "name": "python3"
  },
  "language_info": {
   "codemirror_mode": {
    "name": "ipython",
    "version": 3
   },
   "file_extension": ".py",
   "mimetype": "text/x-python",
   "name": "python",
   "nbconvert_exporter": "python",
   "pygments_lexer": "ipython3",
   "version": "3.6.4"
  }
 },
 "nbformat": 4,
 "nbformat_minor": 2
}
