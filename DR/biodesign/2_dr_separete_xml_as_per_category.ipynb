{
 "cells": [
  {
   "cell_type": "code",
   "execution_count": 1,
   "metadata": {},
   "outputs": [],
   "source": [
    "import os\n",
    "import xml.etree.ElementTree as ET"
   ]
  },
  {
   "cell_type": "code",
   "execution_count": 2,
   "metadata": {},
   "outputs": [],
   "source": [
    "OUTPUT_DIR = 'C:/Users/user/kabir/ML/DR/biodesign/labels_xml_separated/'"
   ]
  },
  {
   "cell_type": "code",
   "execution_count": 3,
   "metadata": {},
   "outputs": [],
   "source": [
    "def separate_xml_file(filename, INPUT_DIR, OUTPUT_DIR):\n",
    "    file_path = INPUT_DIR + filename\n",
    "    tree = ET.parse(file_path)\n",
    "    root = tree.getroot()\n",
    "    bbox = root.findall('object')\n",
    "    categoty = list()\n",
    "    for child in bbox:\n",
    "        categoty.append(child.findall('name')[0].text)\n",
    "\n",
    "    unique_category = list(set(categoty))\n",
    "    for i in range(len(unique_category)):\n",
    "        top = ET.Element('annotation')\n",
    "        top.append(root[0])\n",
    "        top.append(root[1])\n",
    "        top.append(root[2])\n",
    "        top.append(root[3])\n",
    "        top.append(root[4])\n",
    "        top.append(root[5])\n",
    "        for node in bbox:\n",
    "            for child in node:\n",
    "                if child.tag == 'name':\n",
    "                    if child.text == unique_category[i]:\n",
    "                        top.append(node)\n",
    "        path = OUTPUT_DIR + unique_category[i] + '/' + filename\n",
    "        tree = ET.ElementTree(top)\n",
    "        tree.write(path)"
   ]
  },
  {
   "cell_type": "code",
   "execution_count": 4,
   "metadata": {},
   "outputs": [],
   "source": [
    "INPUT_DIR = 'C:/Users/user/kabir/ML/DR/biodesign/labels_xml/'"
   ]
  },
  {
   "cell_type": "code",
   "execution_count": 5,
   "metadata": {},
   "outputs": [],
   "source": [
    "filenames = os.listdir(INPUT_DIR)\n",
    "for file in filenames:\n",
    "    #print(filenames)\n",
    "    separate_xml_file(file, INPUT_DIR, OUTPUT_DIR)"
   ]
  },
  {
   "cell_type": "code",
   "execution_count": 6,
   "metadata": {},
   "outputs": [
    {
     "data": {
      "text/plain": [
       "68"
      ]
     },
     "execution_count": 6,
     "metadata": {},
     "output_type": "execute_result"
    }
   ],
   "source": [
    "len(filenames)"
   ]
  },
  {
   "cell_type": "code",
   "execution_count": null,
   "metadata": {},
   "outputs": [],
   "source": []
  },
  {
   "cell_type": "code",
   "execution_count": 3,
   "metadata": {},
   "outputs": [],
   "source": []
  },
  {
   "cell_type": "code",
   "execution_count": null,
   "metadata": {},
   "outputs": [],
   "source": []
  },
  {
   "cell_type": "code",
   "execution_count": null,
   "metadata": {},
   "outputs": [],
   "source": []
  }
 ],
 "metadata": {
  "kernelspec": {
   "display_name": "Python 3",
   "language": "python",
   "name": "python3"
  },
  "language_info": {
   "codemirror_mode": {
    "name": "ipython",
    "version": 3
   },
   "file_extension": ".py",
   "mimetype": "text/x-python",
   "name": "python",
   "nbconvert_exporter": "python",
   "pygments_lexer": "ipython3",
   "version": "3.6.4"
  }
 },
 "nbformat": 4,
 "nbformat_minor": 2
}
