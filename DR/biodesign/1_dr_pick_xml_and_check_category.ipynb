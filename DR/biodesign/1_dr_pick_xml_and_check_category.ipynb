{
 "cells": [
  {
   "cell_type": "code",
   "execution_count": 18,
   "metadata": {},
   "outputs": [],
   "source": [
    "import os\n",
    "from shutil import copyfile"
   ]
  },
  {
   "cell_type": "code",
   "execution_count": 19,
   "metadata": {},
   "outputs": [],
   "source": [
    "folders = os.listdir('grade_3')\n",
    "for folder in folders:\n",
    "    path = 'grade_3/{}/fragments/'.format(folder)\n",
    "    #print(path)\n",
    "    files = os.listdir(path)\n",
    "    for filename in files:\n",
    "        if '.xml' in filename:\n",
    "            path_xml = path + filename\n",
    "            dst = 'labels_xml/' + filename\n",
    "            copyfile(path_xml, dst)"
   ]
  },
  {
   "cell_type": "code",
   "execution_count": null,
   "metadata": {},
   "outputs": [],
   "source": []
  },
  {
   "cell_type": "code",
   "execution_count": 20,
   "metadata": {},
   "outputs": [
    {
     "data": {
      "text/plain": [
       "47"
      ]
     },
     "execution_count": 20,
     "metadata": {},
     "output_type": "execute_result"
    }
   ],
   "source": [
    "len(list(set(os.listdir('labels_xml')) - set(os.listdir('../labels_xml'))))"
   ]
  },
  {
   "cell_type": "code",
   "execution_count": 21,
   "metadata": {},
   "outputs": [
    {
     "data": {
      "text/plain": [
       "68"
      ]
     },
     "execution_count": 21,
     "metadata": {},
     "output_type": "execute_result"
    }
   ],
   "source": [
    "len(os.listdir('labels_xml'))"
   ]
  },
  {
   "cell_type": "code",
   "execution_count": 22,
   "metadata": {},
   "outputs": [
    {
     "data": {
      "text/plain": [
       "121"
      ]
     },
     "execution_count": 22,
     "metadata": {},
     "output_type": "execute_result"
    }
   ],
   "source": [
    "len(os.listdir('../labels_xml'))"
   ]
  },
  {
   "cell_type": "code",
   "execution_count": 23,
   "metadata": {},
   "outputs": [],
   "source": [
    "import xml.etree.ElementTree as ET"
   ]
  },
  {
   "cell_type": "code",
   "execution_count": 25,
   "metadata": {},
   "outputs": [],
   "source": [
    "xml_files = os.listdir('labels_xml')\n",
    "categories = dict()\n",
    "for filename in xml_files:\n",
    "    file_path = 'labels_xml/{}'.format(filename)\n",
    "    tree = ET.parse(file_path)\n",
    "    root = tree.getroot()\n",
    "    bbox = root.findall('object')\n",
    "    categoty = list()\n",
    "    for child in bbox:\n",
    "        categoty.append(child.findall('name')[0].text)\n",
    "    unique_category = list(set(categoty))\n",
    "    categories[filename] = unique_category"
   ]
  },
  {
   "cell_type": "code",
   "execution_count": 26,
   "metadata": {},
   "outputs": [
    {
     "data": {
      "text/plain": [
       "{'1391_left_r_1_c_2.xml': ['soft_exudate', 'hemorrage'],\n",
       " '1391_left_r_1_c_3.xml': ['exudate', 'hemorrage'],\n",
       " '1391_left_r_2_c_1.xml': ['exudate'],\n",
       " '1391_left_r_2_c_3.xml': ['exudate'],\n",
       " '1391_left_r_2_c_4.xml': ['exudate', 'hemorrage'],\n",
       " '1391_left_r_2_c_5.xml': ['exudate', 'hemorrage'],\n",
       " '1391_left_r_3_c_3.xml': ['exudate', 'hemorrage'],\n",
       " '1391_left_r_3_c_4.xml': ['exudate'],\n",
       " '1391_left_r_3_c_5.xml': ['hemorrage'],\n",
       " '1391_left_r_4_c_3.xml': ['exudate', 'hemorrage'],\n",
       " '1391_left_r_4_c_5.xml': ['exudate', 'hemorrage'],\n",
       " '1391_left_r_5_c_2.xml': ['hemorrage'],\n",
       " '1391_left_r_5_c_4.xml': ['exudate'],\n",
       " '1391_left_r_5_c_5.xml': ['exudate'],\n",
       " '1471_left_r_1_c_3.xml': ['soft_exudate', 'hemorrage'],\n",
       " '1471_left_r_1_c_4.xml': ['hemorrage'],\n",
       " '1471_left_r_1_c_5.xml': ['exudate', 'hemorrage'],\n",
       " '1471_left_r_2_c_2.xml': ['exudate', 'hemorrage'],\n",
       " '1471_left_r_2_c_4.xml': ['hemorrage'],\n",
       " '1471_left_r_2_c_5.xml': ['soft_exudate', 'hemorrage'],\n",
       " '1471_left_r_3_c_5.xml': ['hemorrage'],\n",
       " '1471_left_r_4_c_4.xml': ['exudate', 'hemorrage'],\n",
       " '1471_left_r_4_c_5.xml': ['hemorrage'],\n",
       " '1471_left_r_4_c_6.xml': ['exudate', 'hemorrage'],\n",
       " '1471_left_r_6_c_3.xml': ['soft_exudate'],\n",
       " '163_right_r_1_c_1.xml': ['hemorrage'],\n",
       " '163_right_r_1_c_2.xml': ['hemorrage'],\n",
       " '163_right_r_1_c_3.xml': ['exudate'],\n",
       " '163_right_r_2_c_3.xml': ['exudate', 'hemorrage'],\n",
       " '163_right_r_3_c_1.xml': ['hemorrage'],\n",
       " '163_right_r_3_c_2.xml': ['hemorrage'],\n",
       " '3379_left_r_2_c_2.xml': ['hemorrage'],\n",
       " '3379_left_r_2_c_3.xml': ['exudate', 'hemorrage'],\n",
       " '3379_left_r_3_c_3.xml': ['hemorrage'],\n",
       " '3444_left_r_1_c_3.xml': ['hemorrage'],\n",
       " '3444_left_r_1_c_4.xml': ['hemorrage'],\n",
       " '3444_left_r_1_c_5.xml': ['hemorrage'],\n",
       " '3444_left_r_2_c_3.xml': ['exudate'],\n",
       " '3444_left_r_2_c_4.xml': ['exudate', 'hemorrage'],\n",
       " '3444_left_r_2_c_5.xml': ['exudate', 'hemorrage'],\n",
       " '3444_left_r_2_c_6.xml': ['exudate'],\n",
       " '3444_left_r_3_c_4.xml': ['hemorrage'],\n",
       " '3444_left_r_3_c_5.xml': ['hemorrage'],\n",
       " '3444_left_r_3_c_6.xml': ['exudate', 'hemorrage'],\n",
       " '3444_left_r_4_c_1.xml': ['exudate', 'hemorrage'],\n",
       " '3444_left_r_4_c_3.xml': ['hemorrage'],\n",
       " '3444_left_r_4_c_4.xml': ['exudate', 'hemorrage'],\n",
       " '3444_left_r_4_c_6.xml': ['hemorrage'],\n",
       " '3444_left_r_5_c_2.xml': ['exudate', 'hemorrage'],\n",
       " '3444_left_r_5_c_3.xml': ['exudate', 'hemorrage'],\n",
       " '3444_left_r_5_c_4.xml': ['exudate'],\n",
       " '3444_left_r_5_c_5.xml': ['exudate', 'hemorrage'],\n",
       " '3444_left_r_6_c_3.xml': ['exudate', 'hemorrage'],\n",
       " '391_right_r_1_c_1.xml': ['hemorrage'],\n",
       " '391_right_r_1_c_2.xml': ['hemorrage'],\n",
       " '391_right_r_1_c_3.xml': ['exudate'],\n",
       " '391_right_r_1_c_4.xml': ['exudate'],\n",
       " '391_right_r_1_c_5.xml': ['exudate', 'hemorrage'],\n",
       " '391_right_r_2_c_1.xml': ['exudate'],\n",
       " '391_right_r_2_c_2.xml': ['hemorrage'],\n",
       " '391_right_r_2_c_4.xml': ['exudate'],\n",
       " '391_right_r_2_c_5.xml': ['exudate', 'hemorrage'],\n",
       " '391_right_r_3_c_1.xml': ['exudate', 'hemorrage'],\n",
       " '391_right_r_3_c_5.xml': ['exudate', 'hemorrage'],\n",
       " '932_left_r_1_c_2.xml': ['exudate'],\n",
       " '932_left_r_2_c_2.xml': ['exudate'],\n",
       " '932_left_r_2_c_3.xml': ['exudate'],\n",
       " '932_left_r_3_c_2.xml': ['exudate']}"
      ]
     },
     "execution_count": 26,
     "metadata": {},
     "output_type": "execute_result"
    }
   ],
   "source": [
    "categories"
   ]
  },
  {
   "cell_type": "code",
   "execution_count": 27,
   "metadata": {},
   "outputs": [],
   "source": [
    "count = 0\n",
    "for ids in list(categories.keys()):\n",
    "    if 'hemorrage' in categories[ids]:\n",
    "        count = count + 1"
   ]
  },
  {
   "cell_type": "code",
   "execution_count": 28,
   "metadata": {},
   "outputs": [
    {
     "data": {
      "text/plain": [
       "50"
      ]
     },
     "execution_count": 28,
     "metadata": {},
     "output_type": "execute_result"
    }
   ],
   "source": [
    "count"
   ]
  },
  {
   "cell_type": "code",
   "execution_count": null,
   "metadata": {},
   "outputs": [],
   "source": []
  }
 ],
 "metadata": {
  "kernelspec": {
   "display_name": "Python 3",
   "language": "python",
   "name": "python3"
  },
  "language_info": {
   "codemirror_mode": {
    "name": "ipython",
    "version": 3
   },
   "file_extension": ".py",
   "mimetype": "text/x-python",
   "name": "python",
   "nbconvert_exporter": "python",
   "pygments_lexer": "ipython3",
   "version": "3.6.4"
  }
 },
 "nbformat": 4,
 "nbformat_minor": 2
}
