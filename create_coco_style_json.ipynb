{
 "cells": [
  {
   "cell_type": "code",
   "execution_count": null,
   "metadata": {},
   "outputs": [],
   "source": [
    "import os\n",
    "import json\n",
    "import xml.etree.ElementTree as ET"
   ]
  },
  {
   "cell_type": "code",
   "execution_count": null,
   "metadata": {},
   "outputs": [],
   "source": [
    "def get_bbox_and_area(filePath):\n",
    "    tree = ET.parse(filePath)\n",
    "    root = tree.getroot()\n",
    "    bbox = root.findall('object/bndbox')\n",
    "    if len(bbox)==1:\n",
    "        for i in bbox:\n",
    "            xmin = float(i.find('xmin').text)\n",
    "            ymin = float(i.find('ymin').text)\n",
    "            xmax = float(i.find('xmax').text)\n",
    "            ymax = float(i.find('ymax').text)\n",
    "            width = xmax - xmin\n",
    "            height = ymax - ymin\n",
    "            area = width * height\n",
    "            bbox = [xmin, ymin, width, height]\n",
    "    return {'bbox': bbox, 'area':area}"
   ]
  },
  {
   "cell_type": "code",
   "execution_count": null,
   "metadata": {},
   "outputs": [],
   "source": [
    "def create_image_info_and_annotation(datadir, filename):\n",
    "    \n",
    "    filePath='{}/{}.xml'.format(dataDir,filename)\n",
    "    img_id = int(filename)\n",
    "    \n",
    "    image_info = dict()\n",
    "    image_info['license'] = 1\n",
    "    image_info['file_name'] = '{}.jpg'.format(filename)\n",
    "    image_info['coco_url'] = ''\n",
    "    image_info['height'] = 512\n",
    "    image_info['width'] = 512\n",
    "    image_info['date_captured'] = ''\n",
    "    image_info['flickr_url'] = ''\n",
    "    image_info['id'] = img_id\n",
    "    \n",
    "    image_anno = dict()\n",
    "    image_anno['segmentation'] = list()\n",
    "    image_anno['iscrowd'] = 0\n",
    "    image_anno['image_id'] = img_id\n",
    "    image_anno['category_id'] = 1\n",
    "    image_anno['id'] = None\n",
    "    \n",
    "    anno = get_bbox_and_area(filePath)\n",
    "    image_anno['area'] = anno['area']\n",
    "    image_anno['bbox'] = anno['bbox']\n",
    "    \n",
    "    return {'info': image_info, 'annotation': image_anno}"
   ]
  },
  {
   "cell_type": "code",
   "execution_count": null,
   "metadata": {},
   "outputs": [],
   "source": [
    "category_1 = {'supercategory': 'nerve', 'id': 1, 'name': 'nerve'}"
   ]
  },
  {
   "cell_type": "code",
   "execution_count": null,
   "metadata": {},
   "outputs": [],
   "source": [
    "coco_m = dict()\n",
    "coco_m['info'] = dict()\n",
    "coco_m['licenses'] = list()\n",
    "coco_m['images'] = list()\n",
    "coco_m['annotations'] = list()\n",
    "coco_m['categories'] = list()"
   ]
  },
  {
   "cell_type": "code",
   "execution_count": null,
   "metadata": {},
   "outputs": [],
   "source": [
    "coco_m['categories'].append(category_1)"
   ]
  },
  {
   "cell_type": "code",
   "execution_count": null,
   "metadata": {},
   "outputs": [],
   "source": [
    "dataDir='C:/Users/user/kabir/ML/cbct'"
   ]
  },
  {
   "cell_type": "code",
   "execution_count": null,
   "metadata": {},
   "outputs": [],
   "source": [
    "filename = '221'"
   ]
  },
  {
   "cell_type": "code",
   "execution_count": null,
   "metadata": {},
   "outputs": [],
   "source": [
    "image_data = create_image_info_and_annotation(dataDir, filename)"
   ]
  },
  {
   "cell_type": "code",
   "execution_count": null,
   "metadata": {},
   "outputs": [],
   "source": [
    "coco_m['images'].append(image_data['info'])\n",
    "coco_m['annotations'].append(image_data['annotation'])"
   ]
  },
  {
   "cell_type": "code",
   "execution_count": null,
   "metadata": {},
   "outputs": [],
   "source": [
    "with open('cbct_coco.json', 'w') as fp:\n",
    "    json.dump(coco_m, fp)"
   ]
  },
  {
   "cell_type": "code",
   "execution_count": null,
   "metadata": {},
   "outputs": [],
   "source": [
    "coco_m"
   ]
  },
  {
   "cell_type": "code",
   "execution_count": null,
   "metadata": {},
   "outputs": [],
   "source": []
  },
  {
   "cell_type": "code",
   "execution_count": null,
   "metadata": {},
   "outputs": [],
   "source": []
  }
 ],
 "metadata": {
  "kernelspec": {
   "display_name": "Python 3",
   "language": "python",
   "name": "python3"
  },
  "language_info": {
   "codemirror_mode": {
    "name": "ipython",
    "version": 3
   },
   "file_extension": ".py",
   "mimetype": "text/x-python",
   "name": "python",
   "nbconvert_exporter": "python",
   "pygments_lexer": "ipython3",
   "version": "3.6.4"
  }
 },
 "nbformat": 4,
 "nbformat_minor": 2
}
